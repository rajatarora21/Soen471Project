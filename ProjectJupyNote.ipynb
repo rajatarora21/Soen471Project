{
 "cells": [
  {
   "cell_type": "code",
   "execution_count": 30,
   "metadata": {},
   "outputs": [],
   "source": [
    "import pandas as pd\n",
    "import numpy as np\n",
    "import matplotlib.pyplot as plt\n",
    "import seaborn as sns\n",
    "from sklearn import preprocessing\n",
    "from sklearn.compose import ColumnTransformer\n",
    "from sklearn.pipeline import Pipeline\n",
    "from sklearn.preprocessing import OneHotEncoder\n",
    "from sklearn.model_selection import train_test_split\n",
    "from sklearn.tree import DecisionTreeClassifier\n",
    "from sklearn.ensemble import RandomForestClassifier\n",
    "from sklearn.model_selection import GridSearchCV\n",
    "from sklearn.preprocessing import StandardScaler\n",
    "from sklearn.metrics import classification_report\n",
    "from sklearn import metrics\n",
    "from imblearn.over_sampling import SMOTE\n",
    "from sklearn.metrics import plot_confusion_matrix"
   ]
  },
  {
   "cell_type": "markdown",
   "metadata": {},
   "source": [
    "Now we will read the CSV to pandas Dataframe"
   ]
  },
  {
   "cell_type": "code",
   "execution_count": 52,
   "metadata": {},
   "outputs": [
    {
     "name": "stdout",
     "output_type": "stream",
     "text": [
      "       enrollee_id      city  city_development_index gender  \\\n",
      "0             8949  city_103                   0.920   Male   \n",
      "1            29725   city_40                   0.776   Male   \n",
      "2            11561   city_21                   0.624    NaN   \n",
      "3            33241  city_115                   0.789    NaN   \n",
      "4              666  city_162                   0.767   Male   \n",
      "...            ...       ...                     ...    ...   \n",
      "19153         7386  city_173                   0.878   Male   \n",
      "19154        31398  city_103                   0.920   Male   \n",
      "19155        24576  city_103                   0.920   Male   \n",
      "19156         5756   city_65                   0.802   Male   \n",
      "19157        23834   city_67                   0.855    NaN   \n",
      "\n",
      "           relevent_experience enrolled_university education_level  \\\n",
      "0      Has relevent experience       no_enrollment        Graduate   \n",
      "1       No relevent experience       no_enrollment        Graduate   \n",
      "2       No relevent experience    Full time course        Graduate   \n",
      "3       No relevent experience                 NaN        Graduate   \n",
      "4      Has relevent experience       no_enrollment         Masters   \n",
      "...                        ...                 ...             ...   \n",
      "19153   No relevent experience       no_enrollment        Graduate   \n",
      "19154  Has relevent experience       no_enrollment        Graduate   \n",
      "19155  Has relevent experience       no_enrollment        Graduate   \n",
      "19156  Has relevent experience       no_enrollment     High School   \n",
      "19157   No relevent experience       no_enrollment  Primary School   \n",
      "\n",
      "      major_discipline experience company_size    company_type last_new_job  \\\n",
      "0                 STEM        >20          NaN             NaN            1   \n",
      "1                 STEM         15        50-99         Pvt Ltd           >4   \n",
      "2                 STEM          5          NaN             NaN        never   \n",
      "3      Business Degree         <1          NaN         Pvt Ltd        never   \n",
      "4                 STEM        >20        50-99  Funded Startup            4   \n",
      "...                ...        ...          ...             ...          ...   \n",
      "19153       Humanities         14          NaN             NaN            1   \n",
      "19154             STEM         14          NaN             NaN            4   \n",
      "19155             STEM        >20        50-99         Pvt Ltd            4   \n",
      "19156              NaN         <1      500-999         Pvt Ltd            2   \n",
      "19157              NaN          2          NaN             NaN            1   \n",
      "\n",
      "       training_hours  target  \n",
      "0                  36     1.0  \n",
      "1                  47     0.0  \n",
      "2                  83     0.0  \n",
      "3                  52     1.0  \n",
      "4                   8     0.0  \n",
      "...               ...     ...  \n",
      "19153              42     1.0  \n",
      "19154              52     1.0  \n",
      "19155              44     0.0  \n",
      "19156              97     0.0  \n",
      "19157             127     0.0  \n",
      "\n",
      "[19158 rows x 14 columns]\n"
     ]
    }
   ],
   "source": [
    "train_file = pd.read_csv('aug_train.csv')\n",
    "test_file = pd.read_csv('aug_test.csv')\n",
    "print(train_file)"
   ]
  },
  {
   "cell_type": "code",
   "execution_count": null,
   "metadata": {},
   "outputs": [],
   "source": []
  },
  {
   "cell_type": "markdown",
   "metadata": {},
   "source": [
    "### Data Analysis"
   ]
  },
  {
   "cell_type": "markdown",
   "metadata": {},
   "source": [
    "<br>"
   ]
  },
  {
   "cell_type": "code",
   "execution_count": 32,
   "metadata": {},
   "outputs": [
    {
     "name": "stdout",
     "output_type": "stream",
     "text": [
      "Amount of total missing data in train set: 247479\n",
      "Relative amount of missing data: 92.270%\n",
      "--------------------\n",
      "Missing data per column: \n",
      "\n",
      "                     Column  Missing  Percentage\n",
      "0              enrollee_id        0    0.000000\n",
      "1                     city        0    0.000000\n",
      "2   city_development_index        0    0.000000\n",
      "3                   gender     4508   23.530640\n",
      "4      relevent_experience        0    0.000000\n",
      "5      enrolled_university      386    2.014824\n",
      "6          education_level      460    2.401086\n",
      "7         major_discipline     2813   14.683161\n",
      "8               experience       65    0.339284\n",
      "9             company_size     5938   30.994885\n",
      "10            company_type     6140   32.049274\n",
      "11            last_new_job      423    2.207955\n",
      "12          training_hours        0    0.000000\n",
      "13                  target        0    0.000000\n"
     ]
    }
   ],
   "source": [
    "missing_values = train_file.count().sum()\n",
    "total_values = np.product(train_file.shape)\n",
    "percentages = train_file.isna().sum().reset_index().rename(columns={'index': 'Column', 0:'Missing'})\n",
    "percentages['Percentage'] = percentages['Missing']/train_file.shape[0]*100\n",
    "\n",
    "print(f'Amount of total missing data in train set: {missing_values}\\nRelative amount of missing data: {missing_values/total_values*100:.3f}%')\n",
    "print('-'*20)\n",
    "print(f'Missing data per column: \\n\\n', percentages)"
   ]
  },
  {
   "cell_type": "code",
   "execution_count": 33,
   "metadata": {},
   "outputs": [],
   "source": [
    "def plot(data, column):\n",
    "    fig, ax = plt.subplots(1,2, figsize=(12,6))\n",
    "    perc = percentages.query(f'Column == \"{column}\"')['Percentage'].values\n",
    "    sns.countplot(data=data, x=column, ax=ax[0])\n",
    "    ax[1].pie(train_file[column].value_counts().values, labels=train_file[column].value_counts().index, autopct='%1.1f%%')\n",
    "    fig.tight_layout()\n",
    "    fig.suptitle(f'Column: \\'{column}\\'    -    Missing data: {perc[0]:.2f}%', fontsize=30)\n",
    "    fig.subplots_adjust(top=0.88)\n",
    "    fig.show()"
   ]
  },
  {
   "cell_type": "code",
   "execution_count": 34,
   "metadata": {},
   "outputs": [
    {
     "name": "stderr",
     "output_type": "stream",
     "text": [
      "<ipython-input-33-51c9f87695a3>:9: UserWarning: Matplotlib is currently using module://ipykernel.pylab.backend_inline, which is a non-GUI backend, so cannot show the figure.\n",
      "  fig.show()\n"
     ]
    },
    {
     "data": {
      "image/png": "[encoded data removed]",
      "text/plain": [
       "<Figure size 864x432 with 2 Axes>"
      ]
     },
     "metadata": {
      "needs_background": "light"
     },
     "output_type": "display_data"
    },
    {
     "data": {
      "image/png": "[encoded data removed]",
      "text/plain": [
       "<Figure size 864x432 with 2 Axes>"
      ]
     },
     "metadata": {
      "needs_background": "light"
     },
     "output_type": "display_data"
    }
   ],
   "source": [
    "plot(train_file,'gender') # use one-hot-encoding\n",
    "plot(train_file, 'relevent_experience') # There are no missing values, and the features can have a numerical ordering\n",
    "# plot(train_file, 'enrolled_university') # Use one-hot-encoding does not have many missing values\n",
    "# plot(train_file, 'education_level') # Same amount of missing data as the enrolled_university column, we can classify features in numerical ordering\n",
    "# plot(train_file, 'major_discipline') # Contains alot of missing data, Data scientists from a STEM background is a more prominant value, using one-hot-encoding shouldnt create any biases\n",
    "# plot(train_file, 'experience') # Balanced column counts, with few data missing so for this column we should just remove the missing values and treat the values as numeric variable\n",
    "# plot(train_file, 'company_size') # Since there is alot of missing data in the column imputing will introduce alot of bias, we will drop this column completely\n",
    "# plot(train_file, 'company_type') # Same as company_size column many missing values we will drop this column aswell\n",
    "# plot(train_file, 'last_new_job') # We will just encode never to value 0 and >4 to 5\n",
    "# plot(train_file, 'training_hours') # continuous values with no missing data"
   ]
  },
  {
   "cell_type": "markdown",
   "metadata": {},
   "source": [
    "<br>"
   ]
  },
  {
   "cell_type": "markdown",
   "metadata": {},
   "source": [
    "### PreProcessing "
   ]
  },
  {
   "cell_type": "code",
   "execution_count": 35,
   "metadata": {},
   "outputs": [],
   "source": [
    "train_file = train_file.drop(['company_size','company_type'],axis=1)\n",
    "test_file = test_file.drop(['company_size','company_type'],axis=1)"
   ]
  },
  {
   "cell_type": "code",
   "execution_count": 36,
   "metadata": {},
   "outputs": [
    {
     "name": "stdout",
     "output_type": "stream",
     "text": [
      "Train NA values: \n",
      " enrollee_id                  0\n",
      "city                         0\n",
      "city_development_index       0\n",
      "gender                    4508\n",
      "relevent_experience          0\n",
      "enrolled_university        386\n",
      "education_level            460\n",
      "major_discipline          2813\n",
      "experience                  65\n",
      "last_new_job               423\n",
      "training_hours               0\n",
      "target                       0\n",
      "dtype: int64\n",
      "Test NA values: \n",
      " enrollee_id                 0\n",
      "city                        0\n",
      "city_development_index      0\n",
      "gender                    508\n",
      "relevent_experience         0\n",
      "enrolled_university        31\n",
      "education_level            52\n",
      "major_discipline          312\n",
      "experience                  5\n",
      "last_new_job               40\n",
      "training_hours              0\n",
      "dtype: int64\n"
     ]
    }
   ],
   "source": [
    "print('Train NA values: \\n', train_file.isnull().sum())\n",
    "print('Test NA values: \\n', test_file.isnull().sum())"
   ]
  },
  {
   "cell_type": "code",
   "execution_count": 37,
   "metadata": {},
   "outputs": [],
   "source": [
    "def impute_most_frequent(DataFrame, ColName):\n",
    "    most_frequent_category= DataFrame[ColName].mode()[0]\n",
    "#     Replace unknown values with most occured category\n",
    "    DataFrame[ColName].fillna(most_frequent_category, inplace=True)"
   ]
  },
  {
   "cell_type": "code",
   "execution_count": 38,
   "metadata": {},
   "outputs": [],
   "source": [
    "for i in train_file.select_dtypes(include = 'object').columns:\n",
    "    impute_most_frequent(train_file,i)\n",
    "\n",
    "for i in test_file.select_dtypes(include = 'object').columns:\n",
    "    impute_most_frequent(test_file,i)"
   ]
  },
  {
   "cell_type": "markdown",
   "metadata": {},
   "source": [
    "<br>"
   ]
  },
  {
   "cell_type": "markdown",
   "metadata": {},
   "source": [
    "### LabelEncoding "
   ]
  },
  {
   "cell_type": "code",
   "execution_count": 39,
   "metadata": {},
   "outputs": [
    {
     "name": "stdout",
     "output_type": "stream",
     "text": [
      "Categorical columns:  Index(['city', 'gender', 'relevent_experience', 'enrolled_university',\n",
      "       'education_level', 'major_discipline', 'experience', 'last_new_job'],\n",
      "      dtype='object')\n"
     ]
    }
   ],
   "source": [
    "objList = train_file.select_dtypes(include='object').columns\n",
    "print(\"Categorical columns: \", objList )"
   ]
  },
  {
   "cell_type": "code",
   "execution_count": 40,
   "metadata": {},
   "outputs": [],
   "source": [
    "le = preprocessing.LabelEncoder()\n",
    "train_encoded = train_file.copy()\n",
    "test_encoded = test_file.copy()\n",
    "for feat in objList:\n",
    "    train_encoded[feat] = le.fit_transform(train_file[feat].astype(str))\n",
    "    test_encoded[feat] = le.fit_transform(test_file[feat].astype(str))"
   ]
  },
  {
   "cell_type": "code",
   "execution_count": 41,
   "metadata": {},
   "outputs": [
    {
     "name": "stdout",
     "output_type": "stream",
     "text": [
      "<class 'pandas.core.frame.DataFrame'>\n",
      "RangeIndex: 2129 entries, 0 to 2128\n",
      "Data columns (total 11 columns):\n",
      " #   Column                  Non-Null Count  Dtype  \n",
      "---  ------                  --------------  -----  \n",
      " 0   enrollee_id             2129 non-null   int64  \n",
      " 1   city                    2129 non-null   int64  \n",
      " 2   city_development_index  2129 non-null   float64\n",
      " 3   gender                  2129 non-null   int64  \n",
      " 4   relevent_experience     2129 non-null   int64  \n",
      " 5   enrolled_university     2129 non-null   int64  \n",
      " 6   education_level         2129 non-null   int64  \n",
      " 7   major_discipline        2129 non-null   int64  \n",
      " 8   experience              2129 non-null   int64  \n",
      " 9   last_new_job            2129 non-null   int64  \n",
      " 10  training_hours          2129 non-null   int64  \n",
      "dtypes: float64(1), int64(10)\n",
      "memory usage: 183.1 KB\n"
     ]
    }
   ],
   "source": [
    "test_encoded.info()"
   ]
  },
  {
   "cell_type": "code",
   "execution_count": 51,
   "metadata": {},
   "outputs": [
    {
     "name": "stdout",
     "output_type": "stream",
     "text": [
      "       enrollee_id  city  city_development_index  gender  relevent_experience  \\\n",
      "0             8949     5                   0.920       1                    0   \n",
      "1            29725    77                   0.776       1                    1   \n",
      "2            11561    64                   0.624       1                    1   \n",
      "3            33241    14                   0.789       1                    1   \n",
      "4              666    50                   0.767       1                    0   \n",
      "...            ...   ...                     ...     ...                  ...   \n",
      "19153         7386    55                   0.878       1                    1   \n",
      "19154        31398     5                   0.920       1                    0   \n",
      "19155        24576     5                   0.920       1                    0   \n",
      "19156         5756    94                   0.802       1                    0   \n",
      "19157        23834    95                   0.855       1                    1   \n",
      "\n",
      "       enrolled_university  education_level  major_discipline  experience  \\\n",
      "0                        2                0                 5          21   \n",
      "1                        2                0                 5           6   \n",
      "2                        0                0                 5          15   \n",
      "3                        2                0                 1          20   \n",
      "4                        2                2                 5          21   \n",
      "...                    ...              ...               ...         ...   \n",
      "19153                    2                0                 2           5   \n",
      "19154                    2                0                 5           5   \n",
      "19155                    2                0                 5          21   \n",
      "19156                    2                1                 5          20   \n",
      "19157                    2                4                 5          11   \n",
      "\n",
      "       last_new_job  training_hours  \n",
      "0                 0              36  \n",
      "1                 4              47  \n",
      "2                 5              83  \n",
      "3                 5              52  \n",
      "4                 3               8  \n",
      "...             ...             ...  \n",
      "19153             0              42  \n",
      "19154             3              52  \n",
      "19155             3              44  \n",
      "19156             1              97  \n",
      "19157             0             127  \n",
      "\n",
      "[19158 rows x 11 columns]\n"
     ]
    }
   ],
   "source": [
    "X = train_encoded.drop('target', axis=1)\n",
    "Y = train_encoded.target\n",
    "print(X)"
   ]
  },
  {
   "cell_type": "markdown",
   "metadata": {},
   "source": [
    "<br>"
   ]
  },
  {
   "cell_type": "markdown",
   "metadata": {},
   "source": [
    "### Upsampling Data using SMOTE"
   ]
  },
  {
   "cell_type": "code",
   "execution_count": 43,
   "metadata": {},
   "outputs": [
    {
     "data": {
      "image/png": "[encoded data removed]",
      "text/plain": [
       "<Figure size 432x288 with 1 Axes>"
      ]
     },
     "metadata": {
      "needs_background": "light"
     },
     "output_type": "display_data"
    }
   ],
   "source": [
    "plt.figure(figsize =(6,4))\n",
    "sns.barplot(Y.value_counts().index.astype(int),Y.value_counts().values,palette='bwr')\n",
    "plt.ylabel('Number of rows', fontsize=12)\n",
    "plt.xlabel('Target', fontsize=12)\n",
    "plt.title('Before sampling')\n",
    "plt.show()"
   ]
  },
  {
   "cell_type": "code",
   "execution_count": 44,
   "metadata": {},
   "outputs": [],
   "source": [
    "oversample = SMOTE()\n",
    "smote = SMOTE(random_state=0)\n",
    "X_smote, y_smote = smote.fit_resample(X,Y)"
   ]
  },
  {
   "cell_type": "code",
   "execution_count": 45,
   "metadata": {},
   "outputs": [
    {
     "data": {
      "image/png": "[encoded data removed]",
      "text/plain": [
       "<Figure size 432x288 with 1 Axes>"
      ]
     },
     "metadata": {
      "needs_background": "light"
     },
     "output_type": "display_data"
    }
   ],
   "source": [
    "plt.figure(figsize=(6, 4))\n",
    "sns.barplot(y_smote.value_counts().index.astype(int),\n",
    "            y_smote.value_counts().values, palette='bwr')\n",
    "plt.ylabel('Number of rows', fontsize=12)\n",
    "plt.xlabel('Target', fontsize=12)\n",
    "plt.title('After sampling')\n",
    "plt.show()"
   ]
  },
  {
   "cell_type": "code",
   "execution_count": 46,
   "metadata": {},
   "outputs": [],
   "source": [
    "X_train, X_test, y_train, y_test = train_test_split(X_smote,y_smote,test_size=0.3,random_state=42)"
   ]
  },
  {
   "cell_type": "markdown",
   "metadata": {},
   "source": [
    "### Decision Tree Classifier"
   ]
  },
  {
   "cell_type": "code",
   "execution_count": 47,
   "metadata": {},
   "outputs": [
    {
     "name": "stdout",
     "output_type": "stream",
     "text": [
      "              precision    recall  f1-score   support\n",
      "\n",
      "         0.0       0.75      0.74      0.74      4325\n",
      "         1.0       0.74      0.76      0.75      4304\n",
      "\n",
      "    accuracy                           0.75      8629\n",
      "   macro avg       0.75      0.75      0.75      8629\n",
      "weighted avg       0.75      0.75      0.75      8629\n",
      "\n"
     ]
    },
    {
     "data": {
      "image/png": "[encoded data removed]",
      "text/plain": [
       "<Figure size 432x288 with 2 Axes>"
      ]
     },
     "metadata": {
      "needs_background": "light"
     },
     "output_type": "display_data"
    }
   ],
   "source": [
    "clf = DecisionTreeClassifier()\n",
    "clf = clf.fit(X_train,y_train)\n",
    "y_pred = clf.predict(X_test)\n",
    "print(metrics.classification_report(y_test, y_pred, zero_division=0))\n",
    "metrics.confusion_matrix(y_test,y_pred)\n",
    "plot_confusion_matrix(clf, X_test, y_test)  \n",
    "plt.show()"
   ]
  },
  {
   "cell_type": "markdown",
   "metadata": {},
   "source": [
    "### Decision Tree Classifier With Hyperparameter Tuning"
   ]
  },
  {
   "cell_type": "code",
   "execution_count": 60,
   "metadata": {},
   "outputs": [
    {
     "name": "stdout",
     "output_type": "stream",
     "text": [
      "\n",
      "              precision    recall  f1-score   support\n",
      "\n",
      "         0.0       0.77      0.79      0.78      4325\n",
      "         1.0       0.78      0.77      0.78      4304\n",
      "\n",
      "    accuracy                           0.78      8629\n",
      "   macro avg       0.78      0.78      0.78      8629\n",
      "weighted avg       0.78      0.78      0.78      8629\n",
      "\n",
      "[[3419  906]\n",
      " [ 997 3307]]\n"
     ]
    },
    {
     "data": {
      "image/png": "[encoded data removed]",
      "text/plain": [
       "<Figure size 432x288 with 2 Axes>"
      ]
     },
     "metadata": {
      "needs_background": "light"
     },
     "output_type": "display_data"
    }
   ],
   "source": [
    "sc = StandardScaler()\n",
    "\n",
    "X_train = sc.fit_transform(X_train)\n",
    "X_test = sc.transform(X_test)\n",
    "\n",
    "# Tuned Decision Tree Parameters: {'class_weight': None, 'criterion': 'gini', 'max_depth': 10, 'min_impurity_decrease': 0, 'min_samples_split': 2}\n",
    "# param_list = {'criterion': ['gini', 'entropy'],\n",
    "#                   'max_depth': [10, None],\n",
    "#                   'class_weight': ['balanced', None],\n",
    "#                   'min_samples_split': [2],\n",
    "#                   'min_impurity_decrease': [*range(0, 20, 1)]\n",
    "                  \n",
    "tree = DecisionTreeClassifier(class_weight=None,criterion='gini', max_depth=10,min_impurity_decrease=0,min_samples_split=2)\n",
    "\n",
    "# tree_cv = GridSearchCV(tree, param_list, cv=5)\n",
    "\n",
    "tree.fit(X_train, y_train)\n",
    "\n",
    "y_pred = tree.predict(X_test)\n",
    "\n",
    "# print(\"Tuned Decision Tree Parameters: {}\".format(tree.best_params_))\n",
    "print()\n",
    "print(metrics.classification_report(y_test, y_pred, zero_division=0))\n",
    "\n",
    "print(metrics.confusion_matrix(y_test, y_pred))\n",
    "\n",
    "plot_confusion_matrix(tree,X_test,y_test)\n",
    "plt.show()"
   ]
  },
  {
   "cell_type": "markdown",
   "metadata": {},
   "source": [
    "## Random Forest Classifier"
   ]
  },
  {
   "cell_type": "code",
   "execution_count": 57,
   "metadata": {},
   "outputs": [
    {
     "name": "stdout",
     "output_type": "stream",
     "text": [
      "              precision    recall  f1-score   support\n",
      "\n",
      "         0.0       0.81      0.82      0.81      4325\n",
      "         1.0       0.81      0.80      0.81      4304\n",
      "\n",
      "    accuracy                           0.81      8629\n",
      "   macro avg       0.81      0.81      0.81      8629\n",
      "weighted avg       0.81      0.81      0.81      8629\n",
      "\n",
      "[[3534  791]\n",
      " [ 852 3452]]\n"
     ]
    },
    {
     "data": {
      "image/png": "[encoded data removed]",
      "text/plain": [
       "<Figure size 432x288 with 2 Axes>"
      ]
     },
     "metadata": {
      "needs_background": "light"
     },
     "output_type": "display_data"
    }
   ],
   "source": [
    "rft = RandomForestClassifier()\n",
    "rft = rft.fit(X_train,y_train)\n",
    "y_pred = rft.predict(X_test)\n",
    "print(metrics.classification_report(y_test, y_pred, zero_division=0))\n",
    "print(metrics.confusion_matrix(y_test,y_pred))\n",
    "\n",
    "plot_confusion_matrix(rft, X_test, y_test)  \n",
    "plt.show()"
   ]
  },
  {
   "cell_type": "code",
   "execution_count": null,
   "metadata": {},
   "outputs": [],
   "source": []
  },
  {
   "cell_type": "code",
   "execution_count": null,
   "metadata": {},
   "outputs": [],
   "source": []
  }
 ],
 "metadata": {
  "kernelspec": {
   "display_name": "Python 3",
   "language": "python",
   "name": "python3"
  },
  "language_info": {
   "codemirror_mode": {
    "name": "ipython",
    "version": 3
   },
   "file_extension": ".py",
   "mimetype": "text/x-python",
   "name": "python",
   "nbconvert_exporter": "python",
   "pygments_lexer": "ipython3",
   "version": "3.8.3"
  }
 },
 "nbformat": 4,
 "nbformat_minor": 4
}
