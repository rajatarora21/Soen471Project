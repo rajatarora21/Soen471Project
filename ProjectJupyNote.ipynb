{
 "cells": [
  {
   "cell_type": "code",
   "execution_count": 31,
   "metadata": {},
   "outputs": [],
   "source": [
    "import pandas as pd\n",
    "import numpy as np\n",
    "import matplotlib.pyplot as plt\n",
    "import seaborn as sns\n",
    "from sklearn import preprocessing\n",
    "from sklearn.compose import ColumnTransformer\n",
    "from sklearn.model_selection import train_test_split\n",
    "from sklearn.tree import DecisionTreeClassifier\n",
    "from sklearn.ensemble import RandomForestClassifier\n",
    "from sklearn.model_selection import GridSearchCV\n",
    "from sklearn.preprocessing import StandardScaler\n",
    "from sklearn.metrics import classification_report\n",
    "from sklearn import metrics\n",
    "from imblearn.over_sampling import SMOTE\n",
    "from sklearn.metrics import plot_confusion_matrix"
   ]
  },
  {
   "cell_type": "markdown",
   "metadata": {},
   "source": [
    "Now we will read the CSV to pandas Dataframe"
   ]
  },
  {
   "cell_type": "code",
   "execution_count": 35,
   "metadata": {
    "scrolled": false
   },
   "outputs": [
    {
     "data": {
      "text/html": [
       "<div>\n",
       "<style scoped>\n",
       "    .dataframe tbody tr th:only-of-type {\n",
       "        vertical-align: middle;\n",
       "    }\n",
       "\n",
       "    .dataframe tbody tr th {\n",
       "        vertical-align: top;\n",
       "    }\n",
       "\n",
       "    .dataframe thead th {\n",
       "        text-align: right;\n",
       "    }\n",
       "</style>\n",
       "<table border=\"1\" class=\"dataframe\">\n",
       "  <thead>\n",
       "    <tr style=\"text-align: right;\">\n",
       "      <th></th>\n",
       "      <th>enrollee_id</th>\n",
       "      <th>city</th>\n",
       "      <th>city_development_index</th>\n",
       "      <th>gender</th>\n",
       "      <th>relevent_experience</th>\n",
       "      <th>enrolled_university</th>\n",
       "      <th>education_level</th>\n",
       "      <th>major_discipline</th>\n",
       "      <th>experience</th>\n",
       "      <th>company_size</th>\n",
       "      <th>company_type</th>\n",
       "      <th>last_new_job</th>\n",
       "      <th>training_hours</th>\n",
       "      <th>target</th>\n",
       "    </tr>\n",
       "  </thead>\n",
       "  <tbody>\n",
       "    <tr>\n",
       "      <th>0</th>\n",
       "      <td>8949</td>\n",
       "      <td>city_103</td>\n",
       "      <td>0.920</td>\n",
       "      <td>Male</td>\n",
       "      <td>Has relevent experience</td>\n",
       "      <td>no_enrollment</td>\n",
       "      <td>Graduate</td>\n",
       "      <td>STEM</td>\n",
       "      <td>&gt;20</td>\n",
       "      <td>NaN</td>\n",
       "      <td>NaN</td>\n",
       "      <td>1</td>\n",
       "      <td>36</td>\n",
       "      <td>1.0</td>\n",
       "    </tr>\n",
       "    <tr>\n",
       "      <th>1</th>\n",
       "      <td>29725</td>\n",
       "      <td>city_40</td>\n",
       "      <td>0.776</td>\n",
       "      <td>Male</td>\n",
       "      <td>No relevent experience</td>\n",
       "      <td>no_enrollment</td>\n",
       "      <td>Graduate</td>\n",
       "      <td>STEM</td>\n",
       "      <td>15</td>\n",
       "      <td>50-99</td>\n",
       "      <td>Pvt Ltd</td>\n",
       "      <td>&gt;4</td>\n",
       "      <td>47</td>\n",
       "      <td>0.0</td>\n",
       "    </tr>\n",
       "    <tr>\n",
       "      <th>2</th>\n",
       "      <td>11561</td>\n",
       "      <td>city_21</td>\n",
       "      <td>0.624</td>\n",
       "      <td>NaN</td>\n",
       "      <td>No relevent experience</td>\n",
       "      <td>Full time course</td>\n",
       "      <td>Graduate</td>\n",
       "      <td>STEM</td>\n",
       "      <td>5</td>\n",
       "      <td>NaN</td>\n",
       "      <td>NaN</td>\n",
       "      <td>never</td>\n",
       "      <td>83</td>\n",
       "      <td>0.0</td>\n",
       "    </tr>\n",
       "  </tbody>\n",
       "</table>\n",
       "</div>"
      ],
      "text/plain": [
       "   enrollee_id      city  city_development_index gender  \\\n",
       "0         8949  city_103                   0.920   Male   \n",
       "1        29725   city_40                   0.776   Male   \n",
       "2        11561   city_21                   0.624    NaN   \n",
       "\n",
       "       relevent_experience enrolled_university education_level  \\\n",
       "0  Has relevent experience       no_enrollment        Graduate   \n",
       "1   No relevent experience       no_enrollment        Graduate   \n",
       "2   No relevent experience    Full time course        Graduate   \n",
       "\n",
       "  major_discipline experience company_size company_type last_new_job  \\\n",
       "0             STEM        >20          NaN          NaN            1   \n",
       "1             STEM         15        50-99      Pvt Ltd           >4   \n",
       "2             STEM          5          NaN          NaN        never   \n",
       "\n",
       "   training_hours  target  \n",
       "0              36     1.0  \n",
       "1              47     0.0  \n",
       "2              83     0.0  "
      ]
     },
     "execution_count": 35,
     "metadata": {},
     "output_type": "execute_result"
    }
   ],
   "source": [
    "train_file = pd.read_csv('aug_train.csv')\n",
    "test_file = pd.read_csv('aug_test.csv')\n",
    "\n",
    "train_file.head(3)"
   ]
  },
  {
   "cell_type": "markdown",
   "metadata": {},
   "source": [
    "### Data Analysis"
   ]
  },
  {
   "cell_type": "markdown",
   "metadata": {},
   "source": [
    "<br>"
   ]
  },
  {
   "cell_type": "code",
   "execution_count": 40,
   "metadata": {},
   "outputs": [
    {
     "name": "stdout",
     "output_type": "stream",
     "text": [
      "Missing data per feature: \n",
      "\n",
      "                     Column  Missing  Percentage\n",
      "0              enrollee_id        0    0.000000\n",
      "1                     city        0    0.000000\n",
      "2   city_development_index        0    0.000000\n",
      "3                   gender     4508   23.530640\n",
      "4      relevent_experience        0    0.000000\n",
      "5      enrolled_university      386    2.014824\n",
      "6          education_level      460    2.401086\n",
      "7         major_discipline     2813   14.683161\n",
      "8               experience       65    0.339284\n",
      "9             company_size     5938   30.994885\n",
      "10            company_type     6140   32.049274\n",
      "11            last_new_job      423    2.207955\n",
      "12          training_hours        0    0.000000\n",
      "13                  target        0    0.000000\n"
     ]
    }
   ],
   "source": [
    "percentages = train_file.isna().sum().reset_index().rename(columns={'index': 'Column', 0:'Missing'})\n",
    "percentages['Percentage'] = percentages['Missing']/train_file.shape[0]*100\n",
    "\n",
    "print(f'Missing data per feature: \\n\\n', percentages)"
   ]
  },
  {
   "cell_type": "code",
   "execution_count": 41,
   "metadata": {},
   "outputs": [],
   "source": [
    "def plot(data, column):\n",
    "    fig, ax = plt.subplots(1,2, figsize=(12,6))\n",
    "    perc = percentages.query(f'Column == \"{column}\"')['Percentage'].values\n",
    "    sns.countplot(data=data, x=column, ax=ax[0])\n",
    "    ax[1].pie(train_file[column].value_counts().values, labels=train_file[column].value_counts().index, autopct='%1.1f%%')\n",
    "    fig.tight_layout()\n",
    "    fig.suptitle(f'Column: \\'{column}\\'    -    Missing data: {perc[0]:.2f}%', fontsize=30)\n",
    "    fig.subplots_adjust(top=0.88)\n",
    "    fig.show()"
   ]
  },
  {
   "cell_type": "code",
   "execution_count": 42,
   "metadata": {},
   "outputs": [
    {
     "name": "stderr",
     "output_type": "stream",
     "text": [
      "<ipython-input-41-51c9f87695a3>:9: UserWarning: Matplotlib is currently using module://ipykernel.pylab.backend_inline, which is a non-GUI backend, so cannot show the figure.\n",
      "  fig.show()\n"
     ]
    },
    {
     "data": {
      "image/png": "[encoded data removed]",
      "text/plain": [
       "<Figure size 864x432 with 2 Axes>"
      ]
     },
     "metadata": {
      "needs_background": "light"
     },
     "output_type": "display_data"
    }
   ],
   "source": [
    "# plot(train_file,'gender') \n",
    "# plot(train_file, 'relevent_experience') \n",
    "# plot(train_file, 'enrolled_university') \n",
    "# plot(train_file, 'education_level') \n",
    "# plot(train_file, 'major_discipline') \n",
    "# plot(train_file, 'experience') \n",
    "# plot(train_file, 'company_size') \n",
    "# plot(train_file, 'company_type') \n",
    "# plot(train_file, 'last_new_job') \n",
    "# plot(train_file, 'training_hours') "
   ]
  },
  {
   "cell_type": "markdown",
   "metadata": {},
   "source": [
    "<br>"
   ]
  },
  {
   "cell_type": "markdown",
   "metadata": {},
   "source": [
    "### PreProcessing "
   ]
  },
  {
   "cell_type": "code",
   "execution_count": null,
   "metadata": {},
   "outputs": [],
   "source": [
    "train_file = train_file.drop(['company_size','company_type'],axis=1)\n",
    "test_file = test_file.drop(['company_size','company_type'],axis=1)"
   ]
  },
  {
   "cell_type": "code",
   "execution_count": null,
   "metadata": {},
   "outputs": [],
   "source": [
    "print('Train file NAN values: \\n', train_file.isnull().sum())\n",
    "print('Test file NAN values: \\n', test_file.isnull().sum())"
   ]
  },
  {
   "cell_type": "code",
   "execution_count": 7,
   "metadata": {},
   "outputs": [],
   "source": [
    "def impute(DataFrame, ColName):\n",
    "    most_frequent_category= DataFrame[ColName].mode()[0]\n",
    "#     Replace unknown values with most occured category\n",
    "    DataFrame[ColName].fillna(most_frequent_category, inplace=True)"
   ]
  },
  {
   "cell_type": "code",
   "execution_count": 43,
   "metadata": {},
   "outputs": [
    {
     "name": "stdout",
     "output_type": "stream",
     "text": [
      "<class 'pandas.core.frame.DataFrame'>\n",
      "RangeIndex: 19158 entries, 0 to 19157\n",
      "Data columns (total 14 columns):\n",
      " #   Column                  Non-Null Count  Dtype  \n",
      "---  ------                  --------------  -----  \n",
      " 0   enrollee_id             19158 non-null  int64  \n",
      " 1   city                    19158 non-null  object \n",
      " 2   city_development_index  19158 non-null  float64\n",
      " 3   gender                  19158 non-null  object \n",
      " 4   relevent_experience     19158 non-null  object \n",
      " 5   enrolled_university     19158 non-null  object \n",
      " 6   education_level         19158 non-null  object \n",
      " 7   major_discipline        19158 non-null  object \n",
      " 8   experience              19158 non-null  object \n",
      " 9   company_size            19158 non-null  object \n",
      " 10  company_type            19158 non-null  object \n",
      " 11  last_new_job            19158 non-null  object \n",
      " 12  training_hours          19158 non-null  int64  \n",
      " 13  target                  19158 non-null  float64\n",
      "dtypes: float64(2), int64(2), object(10)\n",
      "memory usage: 2.0+ MB\n"
     ]
    }
   ],
   "source": [
    "for i in train_file.select_dtypes(include = 'object').columns:\n",
    "    impute(train_file,i)\n",
    "\n",
    "for i in test_file.select_dtypes(include = 'object').columns:\n",
    "    impute(test_file,i)\n",
    "\n",
    "train_file.head(10)\n",
    "train_file.info()"
   ]
  },
  {
   "cell_type": "markdown",
   "metadata": {},
   "source": [
    "<br>"
   ]
  },
  {
   "cell_type": "markdown",
   "metadata": {},
   "source": [
    "### LabelEncoding "
   ]
  },
  {
   "cell_type": "code",
   "execution_count": 13,
   "metadata": {},
   "outputs": [
    {
     "name": "stdout",
     "output_type": "stream",
     "text": [
      "Categorical columns:  Index(['city', 'gender', 'relevent_experience', 'enrolled_university',\n",
      "       'education_level', 'major_discipline', 'experience', 'company_size',\n",
      "       'company_type', 'last_new_job'],\n",
      "      dtype='object')\n"
     ]
    }
   ],
   "source": [
    "objList = train_file.select_dtypes(include='object').columns\n",
    "print(\"Categorical columns: \", objList )"
   ]
  },
  {
   "cell_type": "code",
   "execution_count": 14,
   "metadata": {},
   "outputs": [],
   "source": [
    "le = preprocessing.LabelEncoder()\n",
    "train_encoded = train_file.copy()\n",
    "test_encoded = test_file.copy()\n",
    "for feat in objList:\n",
    "    train_encoded[feat] = le.fit_transform(train_file[feat].astype(str))\n",
    "    test_encoded[feat] = le.fit_transform(test_file[feat].astype(str))"
   ]
  },
  {
   "cell_type": "code",
   "execution_count": 15,
   "metadata": {},
   "outputs": [
    {
     "name": "stdout",
     "output_type": "stream",
     "text": [
      "<class 'pandas.core.frame.DataFrame'>\n",
      "RangeIndex: 2129 entries, 0 to 2128\n",
      "Data columns (total 13 columns):\n",
      " #   Column                  Non-Null Count  Dtype  \n",
      "---  ------                  --------------  -----  \n",
      " 0   enrollee_id             2129 non-null   int64  \n",
      " 1   city                    2129 non-null   int64  \n",
      " 2   city_development_index  2129 non-null   float64\n",
      " 3   gender                  2129 non-null   int64  \n",
      " 4   relevent_experience     2129 non-null   int64  \n",
      " 5   enrolled_university     2129 non-null   int64  \n",
      " 6   education_level         2129 non-null   int64  \n",
      " 7   major_discipline        2129 non-null   int64  \n",
      " 8   experience              2129 non-null   int64  \n",
      " 9   company_size            2129 non-null   int64  \n",
      " 10  company_type            2129 non-null   int64  \n",
      " 11  last_new_job            2129 non-null   int64  \n",
      " 12  training_hours          2129 non-null   int64  \n",
      "dtypes: float64(1), int64(12)\n",
      "memory usage: 216.4 KB\n"
     ]
    }
   ],
   "source": [
    "test_encoded.info()"
   ]
  },
  {
   "cell_type": "code",
   "execution_count": 16,
   "metadata": {},
   "outputs": [],
   "source": [
    "X = train_encoded.drop('target', axis=1)\n",
    "Y = train_encoded.target"
   ]
  },
  {
   "cell_type": "markdown",
   "metadata": {},
   "source": [
    "<br>"
   ]
  },
  {
   "cell_type": "markdown",
   "metadata": {},
   "source": [
    "### Upsampling Data using SMOTE"
   ]
  },
  {
   "cell_type": "code",
   "execution_count": 17,
   "metadata": {},
   "outputs": [
    {
     "data": {
      "image/png": "[encoded data removed]",
      "text/plain": [
       "<Figure size 432x288 with 1 Axes>"
      ]
     },
     "metadata": {
      "needs_background": "light"
     },
     "output_type": "display_data"
    }
   ],
   "source": [
    "plt.figure(figsize =(6,4))\n",
    "sns.barplot(Y.value_counts().index.astype(int),Y.value_counts().values,palette='bwr')\n",
    "plt.ylabel('Number of rows', fontsize=12)\n",
    "plt.xlabel('Target', fontsize=12)\n",
    "plt.title('Before sampling')\n",
    "plt.show()"
   ]
  },
  {
   "cell_type": "code",
   "execution_count": 19,
   "metadata": {},
   "outputs": [],
   "source": [
    "oversample = SMOTE()\n",
    "smote = SMOTE(random_state=0)\n",
    "x_oversample, y_oversample = smote.fit_resample(X,Y)"
   ]
  },
  {
   "cell_type": "code",
   "execution_count": 20,
   "metadata": {},
   "outputs": [
    {
     "data": {
      "image/png": "[encoded data removed]",
      "text/plain": [
       "<Figure size 432x288 with 1 Axes>"
      ]
     },
     "metadata": {
      "needs_background": "light"
     },
     "output_type": "display_data"
    }
   ],
   "source": [
    "plt.figure(figsize=(6, 4))\n",
    "sns.barplot(y_oversample.value_counts().index.astype(int),\n",
    "            y_oversample.value_counts().values, palette='bwr')\n",
    "plt.ylabel('Number of rows', fontsize=12)\n",
    "plt.xlabel('Target', fontsize=12)\n",
    "plt.title('After sampling')\n",
    "plt.show()"
   ]
  },
  {
   "cell_type": "code",
   "execution_count": 21,
   "metadata": {},
   "outputs": [],
   "source": [
    "X_train, X_test, y_train, y_test = train_test_split(x_oversample,y_oversample,test_size=0.3,random_state=42)"
   ]
  },
  {
   "cell_type": "markdown",
   "metadata": {},
   "source": [
    "### Decision Tree Classifier"
   ]
  },
  {
   "cell_type": "code",
   "execution_count": 24,
   "metadata": {
    "scrolled": true
   },
   "outputs": [
    {
     "name": "stdout",
     "output_type": "stream",
     "text": [
      "              precision    recall  f1-score   support\n",
      "\n",
      "         0.0       0.75      0.74      0.74      4325\n",
      "         1.0       0.74      0.75      0.74      4304\n",
      "\n",
      "    accuracy                           0.74      8629\n",
      "   macro avg       0.74      0.74      0.74      8629\n",
      "weighted avg       0.74      0.74      0.74      8629\n",
      "\n"
     ]
    },
    {
     "data": {
      "image/png": "[encoded data removed]",
      "text/plain": [
       "<Figure size 432x288 with 2 Axes>"
      ]
     },
     "metadata": {
      "needs_background": "light"
     },
     "output_type": "display_data"
    }
   ],
   "source": [
    "clf = DecisionTreeClassifier()\n",
    "clf = clf.fit(X_train,y_train)\n",
    "y_pred = clf.predict(X_test)\n",
    "print(metrics.classification_report(y_test, y_pred, zero_division=0))\n",
    "metrics.confusion_matrix(y_test,y_pred)\n",
    "plot_confusion_matrix(rft, X_test, y_test)  \n",
    "plt.show()"
   ]
  },
  {
   "cell_type": "markdown",
   "metadata": {},
   "source": [
    "### Decision Tree Classifier With Hyperparameter Tuning"
   ]
  },
  {
   "cell_type": "code",
   "execution_count": 26,
   "metadata": {},
   "outputs": [
    {
     "name": "stdout",
     "output_type": "stream",
     "text": [
      "\n",
      "              precision    recall  f1-score   support\n",
      "\n",
      "         0.0       0.77      0.76      0.77      4325\n",
      "         1.0       0.77      0.77      0.77      4304\n",
      "\n",
      "    accuracy                           0.77      8629\n",
      "   macro avg       0.77      0.77      0.77      8629\n",
      "weighted avg       0.77      0.77      0.77      8629\n",
      "\n",
      "[[3303 1022]\n",
      " [ 976 3328]]\n"
     ]
    },
    {
     "data": {
      "image/png": "[encoded data removed]",
      "text/plain": [
       "<Figure size 432x288 with 2 Axes>"
      ]
     },
     "metadata": {
      "needs_background": "light"
     },
     "output_type": "display_data"
    }
   ],
   "source": [
    "sc = StandardScaler()\n",
    "\n",
    "X_train = sc.fit_transform(X_train)\n",
    "X_test = sc.transform(X_test)\n",
    "\n",
    "# Tuned Decision Tree Parameters: {'class_weight': None, 'criterion': 'gini', 'max_depth': 10, 'min_impurity_decrease': 0, 'min_samples_split': 2}\n",
    "# param_list = {'criterion': ['gini', 'entropy'],\n",
    "#                   'max_depth': [10, None],\n",
    "#                   'class_weight': ['balanced', None],\n",
    "#                   'min_samples_split': [2],\n",
    "#                   'min_impurity_decrease': [*range(0, 20, 1)]\n",
    "                  \n",
    "tree = DecisionTreeClassifier(class_weight=None, criterion='gini', max_depth=10,min_impurity_decrease=0, min_samples_split=2)\n",
    "\n",
    "# tree_cv = GridSearchCV(tree, param_list, cv=5)\n",
    "\n",
    "tree.fit(X_train, y_train)\n",
    "\n",
    "y_pred = tree.predict(X_test)\n",
    "\n",
    "# print(\"Tuned Decision Tree Parameters: {}\".format(tree.best_params_))\n",
    "print()\n",
    "print(metrics.classification_report(y_test, y_pred, zero_division=0))\n",
    "\n",
    "print(metrics.confusion_matrix(y_test, y_pred))\n",
    "\n",
    "plot_confusion_matrix(tree,X_test,y_test)\n",
    "plt.show()"
   ]
  },
  {
   "cell_type": "markdown",
   "metadata": {},
   "source": [
    "## Random Forest Classifier"
   ]
  },
  {
   "cell_type": "code",
   "execution_count": 22,
   "metadata": {},
   "outputs": [
    {
     "name": "stdout",
     "output_type": "stream",
     "text": [
      "              precision    recall  f1-score   support\n",
      "\n",
      "         0.0       0.82      0.81      0.81      4325\n",
      "         1.0       0.81      0.82      0.81      4304\n",
      "\n",
      "    accuracy                           0.81      8629\n",
      "   macro avg       0.81      0.81      0.81      8629\n",
      "weighted avg       0.81      0.81      0.81      8629\n",
      "\n"
     ]
    },
    {
     "data": {
      "image/png": "[encoded data removed]",
      "text/plain": [
       "<Figure size 432x288 with 2 Axes>"
      ]
     },
     "metadata": {
      "needs_background": "light"
     },
     "output_type": "display_data"
    }
   ],
   "source": [
    "rft = RandomForestClassifier()\n",
    "rft = rft.fit(X_train,y_train)\n",
    "y_pred = rft.predict(X_test)\n",
    "print(metrics.classification_report(y_test, y_pred, zero_division=0))\n",
    "metrics.confusion_matrix(y_test,y_pred)\n",
    "\n",
    "plot_confusion_matrix(rft, X_test, y_test)  \n",
    "plt.show()"
   ]
  },
  {
   "cell_type": "code",
   "execution_count": null,
   "metadata": {},
   "outputs": [],
   "source": []
  },
  {
   "cell_type": "code",
   "execution_count": null,
   "metadata": {},
   "outputs": [],
   "source": []
  }
 ],
 "metadata": {
  "kernelspec": {
   "display_name": "Python 3",
   "language": "python",
   "name": "python3"
  },
  "language_info": {
   "codemirror_mode": {
    "name": "ipython",
    "version": 3
   },
   "file_extension": ".py",
   "mimetype": "text/x-python",
   "name": "python",
   "nbconvert_exporter": "python",
   "pygments_lexer": "ipython3",
   "version": "3.8.3"
  },
  "pycharm": {
   "stem_cell": {
    "cell_type": "raw",
    "metadata": {
     "collapsed": false
    },
    "source": []
   }
  }
 },
 "nbformat": 4,
 "nbformat_minor": 4
}
